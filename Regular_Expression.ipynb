{
  "nbformat": 4,
  "nbformat_minor": 0,
  "metadata": {
    "colab": {
      "name": "Regular Expression.ipynb",
      "provenance": [],
      "toc_visible": true
    },
    "kernelspec": {
      "name": "python3",
      "display_name": "Python 3"
    },
    "language_info": {
      "name": "python"
    }
  },
  "cells": [
    {
      "cell_type": "markdown",
      "metadata": {
        "id": "zFdFztliVjXG"
      },
      "source": [
        "# Basic Concepts of String Manipulation\n"
      ]
    },
    {
      "cell_type": "markdown",
      "metadata": {
        "id": "V23KbAmCVkzN"
      },
      "source": [
        "## First day!\n",
        "Congratulations! It's your first day as a data scientist in the company! Your first project is to build a model for predicting if a movie will get a positive or negative review.\n",
        "You need to start exploring your dataset. In order to create a function that will scan each movie review, you want to know how many characters every string has and print the result out together with a statement that indicate what the number refers to. To test if your function works correctly, you are going to start by analyzing only one example.\n",
        "\n",
        "The text of one movie review has been already saved in the variable movie. You can use print(movie) to view the variable in the IPython Shell."
      ]
    },
    {
      "cell_type": "code",
      "metadata": {
        "id": "Zewk-zghVn47"
      },
      "source": [
        "movie = 'fox and kelley soon become bitter rivals because the new fox books store is opening up right across the block from the small business .'"
      ],
      "execution_count": null,
      "outputs": []
    },
    {
      "cell_type": "code",
      "metadata": {
        "colab": {
          "base_uri": "https://localhost:8080/"
        },
        "id": "ZseboxSTSucJ",
        "outputId": "433aede1-1646-4cdb-c096-9ad1b4476e67"
      },
      "source": [
        "# Find characters in movie variable\n",
        "length_string = len(movie)\n",
        "\n",
        "# Convert to string\n",
        "to_string = str(length_string)\n",
        "\n",
        "# Predefined variable\n",
        "statement = \"Number of characters in this review:\"\n",
        "\n",
        "# Concatenate strings and print result\n",
        "print(statement + \" \" + to_string)"
      ],
      "execution_count": null,
      "outputs": [
        {
          "output_type": "stream",
          "text": [
            "Number of characters in this review: 135\n"
          ],
          "name": "stdout"
        }
      ]
    },
    {
      "cell_type": "markdown",
      "metadata": {
        "id": "QPdUJca-V2BD"
      },
      "source": [
        "## Artificial reviews\n",
        "While checking out the movie reviews in your dataset, you realize that some of them show an atypical pattern. Since you should only include true reviews in your analysis, you decide to extract the suspicious ones that follow this pattern. You want to see if it is possible to artificially create reviews by using the first and last part of one example review and changing a keyword in the middle.\n",
        "\n",
        "The text of two movie reviews has been already saved in the variables movie1 and movie2. You can use the print() function to view the variables in the IPython Shell.\n",
        "\n",
        "Remember: The 1st character of a string has index 0."
      ]
    },
    {
      "cell_type": "code",
      "metadata": {
        "id": "YHoeKX4AV2pN"
      },
      "source": [
        "movie1 = 'the most significant tension of _election_ is the potential relationship between a teacher and his student .'\n",
        "movie2 = 'the most significant tension of _rushmore_ is the potential relationship between a teacher and his student .'"
      ],
      "execution_count": null,
      "outputs": []
    },
    {
      "cell_type": "code",
      "metadata": {
        "colab": {
          "base_uri": "https://localhost:8080/"
        },
        "id": "-ODawMfoWRAT",
        "outputId": "ddec252f-381b-4ec1-ed51-8098893c3488"
      },
      "source": [
        "# Select the first 32 characters of movie1\n",
        "first_part = movie1[:32]\n",
        "\n",
        "# Select from 43rd character to the end of movie1\n",
        "last_part = movie1[42:]\n",
        "\n",
        "# Select from 33rd to the 42nd character\n",
        "middle_part = movie2[32:42]\n",
        "\n",
        "# Print concatenation and movie2 variable\n",
        "print(first_part+middle_part+last_part) \n",
        "print(movie2)"
      ],
      "execution_count": null,
      "outputs": [
        {
          "output_type": "stream",
          "text": [
            "the most significant tension of _rushmore_ is the potential relationship between a teacher and his student .\n",
            "the most significant tension of _rushmore_ is the potential relationship between a teacher and his student .\n"
          ],
          "name": "stdout"
        }
      ]
    },
    {
      "cell_type": "markdown",
      "metadata": {
        "id": "EB_uphPAWlAj"
      },
      "source": [
        "## Palindromes\n",
        "Next, you are committed to find any peculiarity in the words included in the movie review dataset. A palindrome is a sequence of characters which can be read the same backward as forward, for example: Madam or No lemon, no melon. You realize that there are some funny movie names that can have this characteristic. You want to make a list of all movie titles that are funny palindromes but you will start by analyzing one example.\n",
        "\n",
        "In python, you can also specify steps by using a third index. If you don't specify the first or second index and the third one is negative, it will return the characters jumping and backwards.\n",
        "\n",
        "The text of a movie review for one example has been already saved in the variable movie. You can use print(movie) to view the variable in the IPython Shell."
      ]
    },
    {
      "cell_type": "code",
      "metadata": {
        "id": "ftTQj-NEWlmV"
      },
      "source": [
        "movie = 'oh my God! desserts I stressed was an ugly movie'"
      ],
      "execution_count": null,
      "outputs": []
    },
    {
      "cell_type": "code",
      "metadata": {
        "colab": {
          "base_uri": "https://localhost:8080/"
        },
        "id": "yn1CDHh8Wq6D",
        "outputId": "d7d0f5f6-1541-491e-f4fa-1e483385a0d9"
      },
      "source": [
        "# Get the word\n",
        "movie_title = movie[11:30]\n",
        "\n",
        "# Obtain the palindrome\n",
        "palindrome = movie_title[::-1]\n",
        "\n",
        "# Print the word if it's a palindrome\n",
        "if movie_title == palindrome:\n",
        "\tprint(movie_title)"
      ],
      "execution_count": null,
      "outputs": [
        {
          "output_type": "stream",
          "text": [
            "desserts I stressed\n"
          ],
          "name": "stdout"
        }
      ]
    },
    {
      "cell_type": "markdown",
      "metadata": {
        "id": "0-A9wS0eab0o"
      },
      "source": [
        "## Normalizing reviews\n",
        "It's time to extract some important words present in your movie review dataset. First, you need to normalize them and then, count their frequency. Part of the normalization implies converting all the words to lowercase, removing special characters and extracting the root of a word so you count the variants as one.\n",
        "\n",
        "So imagine you have the following reviews: The movie surprises me very much and Marvel movies always surprise their audience. If you count the word frequency, you will count surprises one time and surprise one time. However, the verb surprise appears in both and its frequency should be two.\n",
        "\n",
        "The text of a movie review for only one example has been already saved in the variable movie. You can use print(movie) to view the variable in the IPython Shell."
      ]
    },
    {
      "cell_type": "code",
      "metadata": {
        "id": "_kR12bP1acjj"
      },
      "source": [
        "movie = '$I supposed that coming from MTV Films I should expect no less$'"
      ],
      "execution_count": null,
      "outputs": []
    },
    {
      "cell_type": "code",
      "metadata": {
        "colab": {
          "base_uri": "https://localhost:8080/"
        },
        "id": "7UiWMnTmapFR",
        "outputId": "620ec746-2520-4c56-c329-25a96d61f8ab"
      },
      "source": [
        "# Convert to lowercase and print the result\n",
        "movie_lower = movie.lower()\n",
        "print(movie_lower)\n",
        "\n",
        "# Remove specified character and print the result\n",
        "movie_no_sign = movie_lower.strip(\"$\")\n",
        "print(movie_no_sign)\n",
        "\n",
        "# Split the string into substrings and print the result\n",
        "movie_split = movie_no_sign.split()\n",
        "print(movie_split)\n",
        "\n",
        "# Select root word and print the result\n",
        "word_root = movie_split[1][:-1]\n",
        "print(word_root)"
      ],
      "execution_count": null,
      "outputs": [
        {
          "output_type": "stream",
          "text": [
            "$i supposed that coming from mtv films i should expect no less$\n",
            "i supposed that coming from mtv films i should expect no less\n",
            "['i', 'supposed', 'that', 'coming', 'from', 'mtv', 'films', 'i', 'should', 'expect', 'no', 'less']\n",
            "suppose\n"
          ],
          "name": "stdout"
        }
      ]
    },
    {
      "cell_type": "markdown",
      "metadata": {
        "id": "5ZoF7MznbTex"
      },
      "source": [
        "## Time to join!\n",
        "While normalizing your text, you noticed that one review had a particular structure. This review ends with the HTML tag <\\i> and it has a lot of commas in different places of the sentence. You decide to remove the tag from the end and use the strategy of splitting the string and joining it back again without the commas.\n",
        "\n",
        "The text of a movie review has been already saved in the variable movie. You can use print(movie) to view the variable in the IPython Shell."
      ]
    },
    {
      "cell_type": "code",
      "metadata": {
        "id": "whBL3l7wbT--"
      },
      "source": [
        "movie = 'the film,however,is all good<\\\\i>'"
      ],
      "execution_count": null,
      "outputs": []
    },
    {
      "cell_type": "code",
      "metadata": {
        "colab": {
          "base_uri": "https://localhost:8080/"
        },
        "id": "jZI1dw_fbXGC",
        "outputId": "e10df18d-f9ab-4408-c7d2-dacc34184466"
      },
      "source": [
        "# Remove tags happening at the end and print results\n",
        "movie_tag = movie.rstrip(\"<\\i>\")\n",
        "print(movie_tag)\n",
        "\n",
        "# Split the string using commas and print results\n",
        "movie_no_comma = movie_tag.split(\",\")\n",
        "print(movie_no_comma)\n",
        "\n",
        "# Join back together and print results\n",
        "movie_join = \" \".join(movie_no_comma)\n",
        "print(movie_join)"
      ],
      "execution_count": null,
      "outputs": [
        {
          "output_type": "stream",
          "text": [
            "the film,however,is all good\n",
            "['the film', 'however', 'is all good']\n",
            "the film however is all good\n"
          ],
          "name": "stdout"
        }
      ]
    },
    {
      "cell_type": "markdown",
      "metadata": {
        "id": "OJ4fmprHb5r6"
      },
      "source": [
        "## Split lines or split the line?\n",
        "You are about to leave work when a colleague asks you to use your string manipulation skills to help him. You need to read strings from a file in a way that if the file contains strings on different lines, they are stored as separate elements. He also wants you to break the strings into pieces if you see that they contain commas.\n",
        "\n",
        "The text of the file has been already saved in the variable file. You can use print(file) to view the variable in the IPython Shell."
      ]
    },
    {
      "cell_type": "code",
      "metadata": {
        "id": "P85JVvdRb2CS"
      },
      "source": [
        "file = 'mtv films election, a high school comedy, is a current example\\nfrom there, director steven spielberg wastes no time, taking us into the water on a midnight swim'"
      ],
      "execution_count": null,
      "outputs": []
    },
    {
      "cell_type": "code",
      "metadata": {
        "colab": {
          "base_uri": "https://localhost:8080/"
        },
        "id": "mRV2nFVfb9L6",
        "outputId": "0992ee87-4752-495a-d39a-80efb7c28297"
      },
      "source": [
        "# Split string at line boundaries\n",
        "file_split = file.split(sep='\\n')\n",
        "\n",
        "# Print file_split\n",
        "print(file_split)\n",
        "\n",
        "# Complete for-loop to split by commas\n",
        "for substring in file_split:\n",
        "    substring_split = substring.split(sep=',')\n",
        "    print(substring_split)"
      ],
      "execution_count": null,
      "outputs": [
        {
          "output_type": "stream",
          "text": [
            "['mtv films election, a high school comedy, is a current example', 'from there, director steven spielberg wastes no time, taking us into the water on a midnight swim']\n",
            "['mtv films election', ' a high school comedy', ' is a current example']\n",
            "['from there', ' director steven spielberg wastes no time', ' taking us into the water on a midnight swim']\n"
          ],
          "name": "stdout"
        }
      ]
    },
    {
      "cell_type": "markdown",
      "metadata": {
        "id": "BEnuwZ60dq4L"
      },
      "source": [
        "## Finding a substring\n",
        "It's a new day at work and you need to continue cleaning your dataset for the movie prediction project. While exploring the dataset, you notice a strange pattern: there are some repeated, consecutive words occurring between the character at position 37 and the character at position 41. You decide to write a function to find out which movie reviews show this peculiarity, remembering that the ending position you specify is not inclusive. If you detect the word, you also want to change the string by replacing it with only one instance of the word.\n",
        "\n",
        "Complete the if-else statement following the instructions.\n",
        "\n",
        "The text of three movie reviews has been already saved in the variable movies. You can use print(movies) to view the variable in the IPython Shell."
      ]
    },
    {
      "cell_type": "code",
      "metadata": {
        "id": "JJx8t1XddtKZ"
      },
      "source": [
        "movies = [\"it's clear that he's passionate about his beliefs , and that he's not just a punk looking for an excuse to beat people up .\",\n",
        "       'I believe you I always said that the actor actor actor is amazing in every movie he has played',\n",
        "       \"it's astonishing how frightening the actor actor norton looks with a shaved head and a swastika on his chest.\"]"
      ],
      "execution_count": null,
      "outputs": []
    },
    {
      "cell_type": "code",
      "metadata": {
        "colab": {
          "base_uri": "https://localhost:8080/"
        },
        "id": "MZpHfKHkcdOD",
        "outputId": "1be50f6b-818f-4c25-bb8a-6add18dfa463"
      },
      "source": [
        "for movie in movies:\n",
        "  \t# If actor is not found between character 37 and 41 inclusive\n",
        "    # Print word not found\n",
        "    if movie.find(\"actor\", 37, 42) == -1:\n",
        "        print(\"Word not found\")\n",
        "    # Count occurrences and replace two with one\n",
        "    elif movie.count(\"actor\") == 2:  \n",
        "        print(movie.replace(\"actor actor\", \"actor\"))\n",
        "    else:\n",
        "        # Replace three occurrences with one\n",
        "        print(movie.replace(\"actor actor actor\", \"actor\"))"
      ],
      "execution_count": null,
      "outputs": [
        {
          "output_type": "stream",
          "text": [
            "Word not found\n",
            "I believe you I always said that the actor is amazing in every movie he has played\n",
            "it's astonishing how frightening the actor norton looks with a shaved head and a swastika on his chest.\n"
          ],
          "name": "stdout"
        }
      ]
    },
    {
      "cell_type": "markdown",
      "metadata": {
        "id": "H2Mb-Ed0epL6"
      },
      "source": [
        "## Where's the word?\n",
        "Before finishing cleaning your dataset, you want to check if a specific word occurs in the reviews. You noticed earlier a specific pattern in the strings. Now, you want to create a function to check if a word is present between characters with index 12, and 50, remembering that ending position is exclusive, and print out the lowest index where this word occurs. There are two methods to handle this situation. You want to see which one works best.\n",
        "\n",
        "The text of two movie reviews has been already saved in the variable movies. You can use print(movies) to view the variable in the IPython Shell."
      ]
    },
    {
      "cell_type": "code",
      "metadata": {
        "id": "KP4SlRZaerDK"
      },
      "source": [
        "movies = [\"heck , jackie doesn't even have enough money for a haircut , looks like , much less a personal hairstylist .\",\n",
        "       \"in condor , chan plays the same character he's always played , himself , a mixture of bruce lee and tim allen , a master of both kung-fu and slapstick-fu .\"]\n",
        "       "
      ],
      "execution_count": null,
      "outputs": []
    },
    {
      "cell_type": "code",
      "metadata": {
        "colab": {
          "base_uri": "https://localhost:8080/"
        },
        "id": "y9WiH7yteuQi",
        "outputId": "c8d1f7b9-4919-42df-8b62-377ecb1ae665"
      },
      "source": [
        "for movie in movies:\n",
        "  # Find the first occurrence of word\n",
        "  print(movie.find('money', 12, 51))"
      ],
      "execution_count": null,
      "outputs": [
        {
          "output_type": "stream",
          "text": [
            "39\n",
            "-1\n"
          ],
          "name": "stdout"
        }
      ]
    },
    {
      "cell_type": "code",
      "metadata": {
        "colab": {
          "base_uri": "https://localhost:8080/"
        },
        "id": "X8mdbMrSe1m8",
        "outputId": "3a93ca54-5323-4858-a518-efc6b874786c"
      },
      "source": [
        "for movie in movies:\n",
        "  try:\n",
        "    # Find the first occurrence of word\n",
        "  \tprint(movie.index('money', 12, 51))\n",
        "  except ValueError:\n",
        "    print(\"substring not found\")"
      ],
      "execution_count": null,
      "outputs": [
        {
          "output_type": "stream",
          "text": [
            "39\n",
            "substring not found\n"
          ],
          "name": "stdout"
        }
      ]
    },
    {
      "cell_type": "markdown",
      "metadata": {
        "id": "WehSO8HPip5S"
      },
      "source": [
        "# Formatting Strings"
      ]
    },
    {
      "cell_type": "markdown",
      "metadata": {
        "id": "ls8qG2gkisSa"
      },
      "source": [
        "## What day is today?\n",
        "It's lunch time and you are talking with some of your colleagues. They comment that they feel that every morning someone should send them a reminder of what day it is so they can check in the calendar what their assignments are for that day.\n",
        "\n",
        "You want to help out and decide to write a small script that takes the date and time of the day so that every morning, a message is sent to your colleagues. You can use the module datetime along with named placeholders to achieve your goal.\n",
        "\n",
        "The date should be expressed as Month day, year, e.g. April 16, 2019 and the time as hh:mm, e.g. 16:30.\n",
        "\n",
        "You write down some specifiers to help you: %d(day), %B (monthname), %m (monthnumber), %Y(year), %H (hour) and %M(minutes)\n",
        "\n",
        "You can use the IPython Shell to explore the module datetime."
      ]
    },
    {
      "cell_type": "code",
      "metadata": {
        "colab": {
          "base_uri": "https://localhost:8080/"
        },
        "id": "20GCoTn3it-p",
        "outputId": "564e1811-6e4f-4ac9-d675-6af4319d1a16"
      },
      "source": [
        "# Import datetime \n",
        "from datetime import datetime\n",
        "\n",
        "# Assign date to get_date\n",
        "get_date = datetime.now()\n",
        "\n",
        "# Add named placeholders with format specifiers\n",
        "message = \"Good morning. Today is {today:%B %d, %Y}. It's {today:%H:%M} ... time to work!\"\n",
        "\n",
        "# Format date\n",
        "print(message.format(today = get_date))"
      ],
      "execution_count": null,
      "outputs": [
        {
          "output_type": "stream",
          "text": [
            "Good morning. Today is June 14, 2021. It's 02:16 ... time to work!\n"
          ],
          "name": "stdout"
        }
      ]
    },
    {
      "cell_type": "markdown",
      "metadata": {
        "id": "GjR5g91btcQT"
      },
      "source": [
        "# Regular Expression for Pattern Matching"
      ]
    },
    {
      "cell_type": "markdown",
      "metadata": {
        "id": "bXDT1yjgtfyI"
      },
      "source": [
        "## Are they bots?\n",
        "The company that you are working for asked you to perform a sentiment analysis using a dataset with tweets. First of all, you need to do some cleaning and extract some information.\n",
        "While printing out some text, you realize that some tweets contain user mentions. Some of these mentions follow a very strange pattern. A few examples that you notice: @robot3!, @robot5& and @robot7#\n",
        "\n",
        "To analyze if those users are bots, you will do a proof of concept with one tweet and extract them using the .findall() method.\n",
        "\n",
        "You write down some helpful metacharacters to help you later:\n",
        "\n",
        "* \\d: digit\n",
        "* \\w: word character\n",
        "* \\W: non-word character\n",
        "* \\s: whitespace\n",
        "\n",
        "The text of one tweet was saved in the variable sentiment_analysis. You can use print(sentiment_analysis) to view it in the IPython Shell."
      ]
    },
    {
      "cell_type": "code",
      "metadata": {
        "id": "v1jd9KExtggr"
      },
      "source": [
        "sentiment_analysis = '@robot9! @robot4& I have a good feeling that the show isgoing to be amazing! @robot9$ @robot7%'"
      ],
      "execution_count": null,
      "outputs": []
    },
    {
      "cell_type": "code",
      "metadata": {
        "colab": {
          "base_uri": "https://localhost:8080/"
        },
        "id": "R_8FvyCft_Ys",
        "outputId": "87494e6f-e1b4-4d3f-a33d-88c0cb9f5a22"
      },
      "source": [
        "# Import the re module\n",
        "import re\n",
        "\n",
        "# Write the regex\n",
        "regex = r\"@robot\\d\\W\"\n",
        "\n",
        "# Find all matches of regex\n",
        "print(re.findall(regex, sentiment_analysis))"
      ],
      "execution_count": null,
      "outputs": [
        {
          "output_type": "stream",
          "text": [
            "['@robot9!', '@robot4&', '@robot9$', '@robot7%']\n"
          ],
          "name": "stdout"
        }
      ]
    },
    {
      "cell_type": "markdown",
      "metadata": {
        "id": "RorHQS8Bucam"
      },
      "source": [
        "## Find the numbers\n",
        "While examining the tweet text in your dataset, you detect that some tweets carry more information. The text contains the number of retweets, user mentions, and likes. You decide to extract this important information that is given as in this example:\n",
        "\n",
        "Agh,snow! User_mentions:9, likes: 5, number of retweets: 4\n",
        "\n",
        "You pull a list of metacharacters:\\d digit,\\w word character,\\s whitespace.\n",
        "\n",
        "Always indicate whitespace with metacharacters.\n",
        "\n",
        "The variable sentiment_analysis containing the text of one tweet and the re module were loaded in your session. You can use print() to view it in the IPython Shell."
      ]
    },
    {
      "cell_type": "code",
      "metadata": {
        "id": "LNQzCMP2unMd"
      },
      "source": [
        "sentiment_analysis = \"Unfortunately one of those moments wasn't a giant squid monster. User_mentions:2, likes: 9, number of retweets: 7\""
      ],
      "execution_count": null,
      "outputs": []
    },
    {
      "cell_type": "code",
      "metadata": {
        "colab": {
          "base_uri": "https://localhost:8080/"
        },
        "id": "vqrJjgHmufEA",
        "outputId": "e4b586e1-f468-4e4c-9a16-48636a2bb16b"
      },
      "source": [
        "# Write a regex to obtain user mentions\n",
        "print(re.findall(r\"User_mentions:\\d\", sentiment_analysis))\n",
        "\n",
        "# Write a regex to obtain number of likes\n",
        "print(re.findall(r\"likes:\\s\\d\", sentiment_analysis))\n",
        "\n",
        "# Write a regex to obtain number of retweets\n",
        "print(re.findall(r\"number\\sof\\sretweets:\\s\\d\", sentiment_analysis))"
      ],
      "execution_count": null,
      "outputs": [
        {
          "output_type": "stream",
          "text": [
            "['User_mentions:2']\n",
            "['likes: 9']\n",
            "['number of retweets: 7']\n"
          ],
          "name": "stdout"
        }
      ]
    },
    {
      "cell_type": "markdown",
      "metadata": {
        "id": "kcuNqTcFv-F-"
      },
      "source": [
        "## Match and split\n",
        "Some of the tweets in your dataset were downloaded incorrectly. Instead of having spaces to separate words, they have strange characters. You decide to use regular expressions to handle this situation. You print some of these tweets to understand which pattern you need to match.\n",
        "\n",
        "You notice that the sentences are always separated by a special character, followed by a number, the word break, and after that, another special character, e.g &4break!. The words are always separated by a special character, the word new, and a normal random character, e.g #newH.\n",
        "\n",
        "The variable sentiment_analysis containing the text of one tweet, as well as the re module were already loaded in your session. You can use print(sentiment_analysis) to view it in the IPython Shell."
      ]
    },
    {
      "cell_type": "code",
      "metadata": {
        "id": "AP2Q4iWav_x2"
      },
      "source": [
        "sentiment_analysis = 'He#newHis%newTin love with$newPscrappy. #8break%He is&newYmissing him@newLalready'"
      ],
      "execution_count": null,
      "outputs": []
    },
    {
      "cell_type": "code",
      "metadata": {
        "id": "A_F3kFqawEFH",
        "colab": {
          "base_uri": "https://localhost:8080/"
        },
        "outputId": "f18aadf3-7a91-4026-f96d-9f59472b3e98"
      },
      "source": [
        "# Write a regex to match pattern separating sentences\n",
        "regex_sentence = r\"\\W\\dbreak\\W\"\n",
        "\n",
        "# Replace the regex_sentence with a space\n",
        "sentiment_sub = re.sub(regex_sentence, \" \", sentiment_analysis)\n",
        "\n",
        "# Write a regex to match pattern separating words\n",
        "regex_words = r\"\\Wnew\\w\"\n",
        "\n",
        "# Replace the regex_words and print the result\n",
        "sentiment_final = re.sub(regex_words, \" \", sentiment_sub)\n",
        "print(sentiment_final)"
      ],
      "execution_count": null,
      "outputs": [
        {
          "output_type": "stream",
          "text": [
            "He is in love with scrappy.  He is missing him already\n"
          ],
          "name": "stdout"
        }
      ]
    },
    {
      "cell_type": "markdown",
      "metadata": {
        "id": "zba8aCNh0Ca5"
      },
      "source": [
        "## Everything clean\n",
        "Back to your Twitter sentiment analysis project! There are several types of strings that increase your sentiment analysis complexity. But these strings do not provide any useful sentiment. Among them, we can have links and user mentions.\n",
        "\n",
        "In order to clean the tweets, you want to extract some examples first. You know that most of the times links start with http and do not contain any whitespace, e.g. https://www.datacamp.com. User mentions start with @ and can have letters and numbers only, e.g. @johnsmith3.\n",
        "\n",
        "You write down some helpful quantifiers to help you: * zero or more times, + once or more, ? zero or once.\n",
        "\n",
        "The list sentiment_analysis containing the text of three tweet are already loaded in your session. You can use print() to view the data in the IPython Shell."
      ]
    },
    {
      "cell_type": "code",
      "metadata": {
        "id": "gCCMCcK80DtE"
      },
      "source": [
        "sentiment_analysis = ['Boredd. Colddd @blueKnight39 Internet keeps stuffing up. Save me! https://www.tellyourstory.com',\n",
        "       \"I had a horrible nightmare last night @anitaLopez98 @MyredHat31 which affected my sleep, now I'm really tired\",\n",
        "       'im lonely  keep me company @YourBestCompany! @foxRadio https://radio.foxnews.com 22 female, new york']\n",
        "       "
      ],
      "execution_count": null,
      "outputs": []
    },
    {
      "cell_type": "code",
      "metadata": {
        "colab": {
          "base_uri": "https://localhost:8080/"
        },
        "id": "VQoSrihq0HoC",
        "outputId": "bf5613be-e02f-4761-f845-c2b0b2047174"
      },
      "source": [
        "# Import re module\n",
        "import re\n",
        "\n",
        "for tweet in sentiment_analysis:\n",
        "  \t# Write regex to match http links and print out result\n",
        "\tprint(re.findall(r\"http\\S+\", tweet))\n",
        "\n",
        "\t# Write regex to match user mentions and print out result\n",
        "\tprint(re.findall(r\"@\\w+\", tweet))"
      ],
      "execution_count": null,
      "outputs": [
        {
          "output_type": "stream",
          "text": [
            "['https://www.tellyourstory.com']\n",
            "['@blueKnight39']\n",
            "[]\n",
            "['@anitaLopez98', '@MyredHat31']\n",
            "['https://radio.foxnews.com']\n",
            "['@YourBestCompany', '@foxRadio']\n"
          ],
          "name": "stdout"
        }
      ]
    },
    {
      "cell_type": "markdown",
      "metadata": {
        "id": "NmhObJ_N132q"
      },
      "source": [
        "## Some time ago\n",
        "You are interested in knowing when the tweets were posted. After reading a little bit more, you learn that dates are provided in different ways. You decide to extract the dates using .findall() so you can normalize them afterwards to make them all look the same.\n",
        "\n",
        "You realize that the dates are always presented in one of the following ways:\n",
        "\n",
        "27 minutes ago\n",
        "\n",
        "4 hours ago\n",
        "\n",
        "23rd june 2018\n",
        "\n",
        "1st september 2019 17:25\n",
        "\n",
        "The list sentiment_analysis containing the text of three tweets, as well as the re module are already loaded in your session. You can use print() to view the data in the IPython Shell."
      ]
    },
    {
      "cell_type": "code",
      "metadata": {
        "id": "kKBdchrT10f3"
      },
      "source": [
        "sentiment_analysis = ['I would like to apologize for the repeated Video Games Live related tweets. 32 minutes ago',\n",
        "       '@zaydia but i cant figure out how to get there / back / pay for a hotel 1st May 2019',\n",
        "       'FML: So much for seniority, bc of technological ineptness 23rd June 2018 17:54']"
      ],
      "execution_count": null,
      "outputs": []
    },
    {
      "cell_type": "code",
      "metadata": {
        "colab": {
          "base_uri": "https://localhost:8080/"
        },
        "id": "ukfekBe_1-uD",
        "outputId": "46ead83d-9a82-4385-e4a1-0680f809ddb7"
      },
      "source": [
        "# Complete the for loop with a regex to find dates\n",
        "for date in sentiment_analysis:\n",
        "\tprint(re.findall(r\"\\d{1,2}\\s\\w+\\s\\w+\", date))\n",
        "\n",
        "for date in sentiment_analysis:\n",
        "  print(re.findall(r\"\\d{1,2}\\w{2}\\s\\w+\\s\\d{4}\", date))\n",
        "\n",
        "# Complete the for loop with a regex to find dates\n",
        "for date in sentiment_analysis:\n",
        "\tprint(re.findall(r\"\\d{1,2}\\w{2}\\s\\w+\\s\\d{4}\\s\\d{2}:\\d{2}\", date))\n",
        "  "
      ],
      "execution_count": null,
      "outputs": [
        {
          "output_type": "stream",
          "text": [
            "['32 minutes ago']\n",
            "[]\n",
            "[]\n",
            "[]\n",
            "['1st May 2019']\n",
            "['23rd June 2018']\n",
            "[]\n",
            "[]\n",
            "['23rd June 2018 17:54']\n"
          ],
          "name": "stdout"
        }
      ]
    },
    {
      "cell_type": "markdown",
      "metadata": {
        "id": "kmh0SMFt49Pl"
      },
      "source": [
        "## Getting tokens\n",
        "Your next step is to tokenize the text of your tweets. Tokenization is the process of breaking a string into lexical units or, in simpler terms, words. But first, you need to remove hashtags so they do not cloud your process. You realize that hashtags start with a # symbol and contain letters and numbers but never whitespace. After that, you plan to split the text at whitespace matches to get the tokens.\n",
        "\n",
        "You bring your list of quantifiers to help you: * zero or more times, + once or more, ? zero or once, {n, m} minimum n, maximum m.\n",
        "\n",
        "The variable sentiment_analysis containing the text of one tweet as well as the re module are already loaded in your session. You can use print(sentiment_analysis) to view it in the IPython Shell."
      ]
    },
    {
      "cell_type": "code",
      "metadata": {
        "id": "LG4s_iyC4945"
      },
      "source": [
        "sentiment_analysis = 'ITS NOT ENOUGH TO SAY THAT IMISS U #MissYou #SoMuch #Friendship #Forever'"
      ],
      "execution_count": null,
      "outputs": []
    },
    {
      "cell_type": "code",
      "metadata": {
        "colab": {
          "base_uri": "https://localhost:8080/"
        },
        "id": "SVTOCsLU5DzL",
        "outputId": "fd4ecb70-ca26-4f0f-b6a4-342917e01e3b"
      },
      "source": [
        "# Write a regex matching the hashtag pattern\n",
        "regex = r\"#\\w+\"\n",
        "\n",
        "# Replace the regex by an empty string\n",
        "no_hashtag = re.sub(regex, \"\", sentiment_analysis)\n",
        "\n",
        "# Get tokens by splitting text\n",
        "print(re.split(r\"\\s+\", no_hashtag))"
      ],
      "execution_count": null,
      "outputs": [
        {
          "output_type": "stream",
          "text": [
            "['ITS', 'NOT', 'ENOUGH', 'TO', 'SAY', 'THAT', 'IMISS', 'U', '']\n"
          ],
          "name": "stdout"
        }
      ]
    },
    {
      "cell_type": "markdown",
      "metadata": {
        "id": "6-n425bp7KGC"
      },
      "source": [
        "## Finding files\n",
        "You are not satisfied with your tweets dataset cleaning. There are still extra strings that do not provide any sentiment. Among them are strings that refer to text file names.\n",
        "\n",
        "You also find a way to detect them:\n",
        "\n",
        "They appear at the start of the string.\n",
        "They always start with a sequence of 2 or 3 upper or lowercase vowels (a e i o u).\n",
        "They always finish with the txt ending.\n",
        "You are not sure if you should remove them directly. So you write a script to find and store them in a separate dataset.\n",
        "\n",
        "You write down some metacharacters to help you: ^ anchor to beginning, . any character.\n",
        "\n",
        "The variable sentiment_analysis containing the text of two tweets as well as the re module are already loaded in your session. You can use print() to view it in the IPython Shell."
      ]
    },
    {
      "cell_type": "code",
      "metadata": {
        "id": "lGOhOWWd7NoB"
      },
      "source": [
        "sentiment_analysis = ['AIshadowhunters.txt aaaaand back to my literature review. At least i have a friendly cup of coffee to keep me company',\n",
        "       \"ouMYTAXES.txt I am worried that I won't get my $900 even though I paid tax last year\"]\n",
        "       "
      ],
      "execution_count": null,
      "outputs": []
    },
    {
      "cell_type": "code",
      "metadata": {
        "colab": {
          "base_uri": "https://localhost:8080/"
        },
        "id": "_WTKfdkQ7Rzd",
        "outputId": "87878f25-06aa-4124-9335-7c0db4bff8cf"
      },
      "source": [
        "# Write a regex to match text file name\n",
        "regex = r\"^[aeiuoAIUEO]{2,3}.+txt\"\n",
        "\n",
        "for text in sentiment_analysis:\n",
        "\t# Find all matches of the regex\n",
        "\tprint(re.findall(regex, text))\n",
        "    \n",
        "\t# Replace all matches with empty string\n",
        "\tprint(re.sub(regex, \"\", text))"
      ],
      "execution_count": null,
      "outputs": [
        {
          "output_type": "stream",
          "text": [
            "['AIshadowhunters.txt']\n",
            " aaaaand back to my literature review. At least i have a friendly cup of coffee to keep me company\n",
            "['ouMYTAXES.txt']\n",
            " I am worried that I won't get my $900 even though I paid tax last year\n"
          ],
          "name": "stdout"
        }
      ]
    },
    {
      "cell_type": "markdown",
      "metadata": {
        "id": "j0es6Mcv8D29"
      },
      "source": [
        "## Give me your email\n",
        "A colleague has asked for your help! When a user signs up on the company website, they must provide a valid email address.\n",
        "The company puts some rules in place to verify that the given email address is valid:\n",
        "\n",
        "* The first part can contain:\n",
        "  * Upper A-Z and lowercase letters a-z\n",
        "  * Numbers\n",
        "  * Characters: !, #, %, &, *, $, .\n",
        "* Must have @\n",
        "* Domain:\n",
        "  * Can contain any word characters\n",
        "  * But only .com ending is allowed\n",
        "\n",
        "The project consist of writing a script that checks if the email address follow the correct pattern. Your colleague gave you a list of email addresses as examples to test.\n",
        "\n",
        "The list emails as well as the re module are loaded in your session. You can use print(emails) to view the emails in the IPython Shell."
      ]
    },
    {
      "cell_type": "code",
      "metadata": {
        "id": "U9dEu9Oa8CzO"
      },
      "source": [
        "emails = ['n.john.smith@gmail.com', '87victory@hotmail.com', '!#mary-=@msca.net']"
      ],
      "execution_count": null,
      "outputs": []
    },
    {
      "cell_type": "code",
      "metadata": {
        "colab": {
          "base_uri": "https://localhost:8080/"
        },
        "id": "p50osaVt8OAu",
        "outputId": "34857b50-1e23-491e-861f-02a045dfb97f"
      },
      "source": [
        "# Write a regex to match a valid email address\n",
        "regex = r\"[0-9A-za-z!#%&*$.].+@\\w+\\.com\"\n",
        "\n",
        "for example in emails:\n",
        "  \t# Match the regex to the string\n",
        "    if re.findall(regex, example):\n",
        "        # Complete the format method to print out the result\n",
        "      \tprint(\"The email {email_example} is a valid email\".format(email_example=example))\n",
        "    else:\n",
        "      \tprint(\"The email {email_example} is invalid\".format(email_example=example))   "
      ],
      "execution_count": null,
      "outputs": [
        {
          "output_type": "stream",
          "text": [
            "The email n.john.smith@gmail.com is a valid email\n",
            "The email 87victory@hotmail.com is a valid email\n",
            "The email !#mary-=@msca.net is invalid\n"
          ],
          "name": "stdout"
        }
      ]
    },
    {
      "cell_type": "markdown",
      "metadata": {
        "id": "YHNPOKEd9jzc"
      },
      "source": [
        "## Invalid password\n",
        "The second part of the website project is to write a script that validates the password entered by the user. The company also puts some rules in order to verify valid passwords:\n",
        "\n",
        "It can contain lowercase a-z and uppercase letters A-Z\n",
        "It can contain numbers\n",
        "It can contain the symbols: *, #, $, %, !, &, .\n",
        "It must be at least 8 characters long but not more than 20\n",
        "Your colleague also gave you a list of passwords as examples to test.\n",
        "\n",
        "The list passwords and the module re are loaded in your session. You can use print(passwords) to view them in the IPython Shell."
      ]
    },
    {
      "cell_type": "code",
      "metadata": {
        "id": "pgB4sy1y9lPc"
      },
      "source": [
        "password = ['Apple34!rose', 'My87hou#4$', 'abc123']"
      ],
      "execution_count": null,
      "outputs": []
    },
    {
      "cell_type": "code",
      "metadata": {
        "colab": {
          "base_uri": "https://localhost:8080/"
        },
        "id": "DGIRwyPZ9nxS",
        "outputId": "35e35bf8-1783-4849-ae8c-ecaa54f61b26"
      },
      "source": [
        "# Write a regex to match a valid password\n",
        "regex = r\"[a-zA-Z0-9*#$%!&.]{8,20}\"\n",
        "\n",
        "for example in password:\n",
        "  \t# Scan the strings to find a match\n",
        "    if re.findall(regex, example):\n",
        "        # Complete the format method to print out the result\n",
        "      \tprint(\"The password {pass_example} is a valid password\".format(pass_example=example))\n",
        "    else:\n",
        "      \tprint(\"The password {pass_example} is invalid\".format(pass_example=example))   "
      ],
      "execution_count": null,
      "outputs": [
        {
          "output_type": "stream",
          "text": [
            "The password Apple34!rose is a valid password\n",
            "The password My87hou#4$ is a valid password\n",
            "The password abc123 is invalid\n"
          ],
          "name": "stdout"
        }
      ]
    },
    {
      "cell_type": "markdown",
      "metadata": {
        "id": "TmBn5XzMaaBP"
      },
      "source": [
        "## Understanding the difference\n",
        "You need to keep working and cleaning your tweets dataset. You realize that there are some HTML tags present. You need to remove them but keep the inside content as they are useful for analysis.\n",
        "\n",
        "Let's take a look at this sentence containing an HTML tag:\n",
        "\n",
        "I want to see that <strong>amazing show</strong> again!.\n",
        "\n",
        "You know that to get the HTML tag you need to match anything that sits inside angle brackets < >. But the biggest problem is that the closing tag has the same structure. If you match too much, you will end up removing key information. So you need to decide whether to use a greedy or a lazy quantifier.\n",
        "\n",
        "The string is already loaded as string to your session."
      ]
    },
    {
      "cell_type": "code",
      "metadata": {
        "id": "2LW6mAZvadUF"
      },
      "source": [
        "string = 'I want to see that <strong>amazing show</strong> again!'"
      ],
      "execution_count": null,
      "outputs": []
    },
    {
      "cell_type": "code",
      "metadata": {
        "colab": {
          "base_uri": "https://localhost:8080/"
        },
        "id": "fJiFuVWhb8NB",
        "outputId": "467beb72-aa14-4221-e73e-1d4e8c34e6d5"
      },
      "source": [
        "# Import re\n",
        "import re\n",
        "\n",
        "# Write a regex to eliminate tags\n",
        "string_notags = re.sub(r\"<.+?>\", \"\", string)\n",
        "\n",
        "# Print out the result\n",
        "print(string_notags)"
      ],
      "execution_count": null,
      "outputs": [
        {
          "output_type": "stream",
          "text": [
            "I want to see that amazing show again!\n"
          ],
          "name": "stdout"
        }
      ]
    },
    {
      "cell_type": "markdown",
      "metadata": {
        "id": "RWOK51ZpcYoz"
      },
      "source": [
        "## Greedy matching\n",
        "Next, you see that numbers still appear in the text of the tweets. So, you decide to find all of them.\n",
        "\n",
        "Let's imagine that you want to extract the number contained in the sentence I was born on April 24th. A lazy quantifier will make the regex return 2 and 4, because they will match as few characters as needed. However, a greedy quantifier will return the entire 24 due to its need to match as much as possible.\n",
        "\n",
        "The re module as well as the variable sentiment_analysis are already loaded in your session. You can use print(sentiment_analysis) to view it in the IPython Shell."
      ]
    },
    {
      "cell_type": "code",
      "metadata": {
        "id": "q26XLreDcZKr"
      },
      "source": [
        "sentiment_analysis = 'Was intending to finish editing my 536-page novel manuscript tonight, but that will probably not happen. And only 12 pages are left '"
      ],
      "execution_count": null,
      "outputs": []
    },
    {
      "cell_type": "code",
      "metadata": {
        "colab": {
          "base_uri": "https://localhost:8080/"
        },
        "id": "Hvxt3xe0cejN",
        "outputId": "2f8446c7-246d-44c5-9a0a-5d5645890176"
      },
      "source": [
        "# Write a lazy regex expression \n",
        "numbers_found_lazy = re.findall(r\"\\d+?\", sentiment_analysis)\n",
        "\n",
        "# Print out the result\n",
        "print(numbers_found_lazy)"
      ],
      "execution_count": null,
      "outputs": [
        {
          "output_type": "stream",
          "text": [
            "['5', '3', '6', '1', '2']\n"
          ],
          "name": "stdout"
        }
      ]
    },
    {
      "cell_type": "code",
      "metadata": {
        "colab": {
          "base_uri": "https://localhost:8080/"
        },
        "id": "FAhNpkJdck8A",
        "outputId": "9d854da2-feea-41ca-997e-0735d8ac4520"
      },
      "source": [
        "# Write a greedy regex expression \n",
        "numbers_found_greedy = re.findall(r\"\\d+\", sentiment_analysis)\n",
        "\n",
        "# Print out the result\n",
        "print(numbers_found_greedy)"
      ],
      "execution_count": null,
      "outputs": [
        {
          "output_type": "stream",
          "text": [
            "['536', '12']\n"
          ],
          "name": "stdout"
        }
      ]
    },
    {
      "cell_type": "markdown",
      "metadata": {
        "id": "CJa4sCZtewfU"
      },
      "source": [
        "## Lazy approach\n",
        "You have done some cleaning in your dataset but you are worried that there are sentences encased in parentheses that may cloud your analysis.\n",
        "\n",
        "Again, a greedy or a lazy quantifier may lead to different results.\n",
        "\n",
        "For example, if you want to extract a word starting with a and ending with e in the string I like apple pie, you may think that applying the greedy regex a.+e will return apple. However, your match will be apple pie. A way to overcome this is to make it lazy by using ? which will return apple.\n",
        "\n",
        "The re module and the variable sentiment_analysis are already loaded in your session."
      ]
    },
    {
      "cell_type": "code",
      "metadata": {
        "id": "Sm7hf10rew5_"
      },
      "source": [
        "sentiment_analysis = \"Put vacation photos online (They were so cute) a few yrs ago. PC crashed, and now I forget the name of the site (I'm crying). \""
      ],
      "execution_count": null,
      "outputs": []
    },
    {
      "cell_type": "code",
      "metadata": {
        "id": "PZv-GECSe1Rc",
        "colab": {
          "base_uri": "https://localhost:8080/"
        },
        "outputId": "11b08ac9-7570-4a92-9fc9-23d6f8a9456b"
      },
      "source": [
        "# Write a greedy regex expression to match \n",
        "sentences_found_greedy = re.findall(r\"\\(.*\\)\", sentiment_analysis)\n",
        "\n",
        "# Print out the result\n",
        "print(sentences_found_greedy)\n",
        "\n",
        "# Write a lazy regex expression\n",
        "sentences_found_lazy = re.findall(r\"\\(.*?\\)\", sentiment_analysis)\n",
        "\n",
        "# Print out the results\n",
        "print(sentences_found_lazy)"
      ],
      "execution_count": null,
      "outputs": [
        {
          "output_type": "stream",
          "text": [
            "[\"(They were so cute) a few yrs ago. PC crashed, and now I forget the name of the site (I'm crying)\"]\n",
            "['(They were so cute)', \"(I'm crying)\"]\n"
          ],
          "name": "stdout"
        }
      ]
    },
    {
      "cell_type": "markdown",
      "metadata": {
        "id": "vCmVIu5LTge2"
      },
      "source": [
        "# Advanced Regular Expression Concepts"
      ]
    },
    {
      "cell_type": "markdown",
      "metadata": {
        "id": "cYByag8iTjot"
      },
      "source": [
        "## Try another name\n",
        "You are still working on your Twitter sentiment analysis. You analyze now some things that caught your attention. You noticed that there are email addresses inserted in some tweets. Now, you are curious to find out which is the most common name.\n",
        "\n",
        "You want to extract the first part of the email. E.g. if you have the email marysmith90@gmail.com, you are only interested in marysmith90.\n",
        "You need to match the entire expression. So you make sure to extract only names present in emails. Also, you are only interested in names containing upper (e.g. A,B, Z) or lowercase letters (e.g. a, d, z) and numbers.\n",
        "\n",
        "The list sentiment_analysis containing the text of three tweets as well as the re module were loaded in your session. You can use print() to view it in the IPython Shell.\n",
        "\n"
      ]
    },
    {
      "cell_type": "code",
      "metadata": {
        "id": "N3cnU7bKVssp"
      },
      "source": [
        "sentiment_analysis = ['Just got ur newsletter, those fares really are unbelievable. Write to statravelAU@gmail.com or statravelpo@hotmail.com. They have amazing prices',\n",
        " 'I should have paid more attention when we covered photoshop in my webpage design class in undergrad. Contact me Hollywoodheat34@msn.net.',\n",
        " 'hey missed ya at the meeting. Read your email! msdrama098@hotmail.com']"
      ],
      "execution_count": null,
      "outputs": []
    },
    {
      "cell_type": "code",
      "metadata": {
        "colab": {
          "base_uri": "https://localhost:8080/"
        },
        "id": "VazfyE4dTlti",
        "outputId": "27cd6e96-9619-4d13-8cb8-56690b69e4ba"
      },
      "source": [
        "# Write a regex that matches email\n",
        "regex_email = r\"([A-Za-z0-9]+)\\@\\S+\"\n",
        "\n",
        "for tweet in sentiment_analysis:\n",
        "    # Find all matches of regex in each tweet\n",
        "    email_matched = re.findall(regex_email, tweet)\n",
        "\n",
        "    # Complete the format method to print the results\n",
        "    print(\"Lists of users found in this tweet: {}\".format(email_matched))"
      ],
      "execution_count": null,
      "outputs": [
        {
          "output_type": "stream",
          "text": [
            "Lists of users found in this tweet: ['statravelAU', 'statravelpo']\n",
            "Lists of users found in this tweet: ['Hollywoodheat34']\n",
            "Lists of users found in this tweet: ['msdrama098']\n"
          ],
          "name": "stdout"
        }
      ]
    },
    {
      "cell_type": "markdown",
      "metadata": {
        "id": "7UQqxc-qVyCf"
      },
      "source": [
        "## Flying home\n",
        "Your boss assigned you to a small project. They are performing an analysis of the travels people made to attend business meetings. You are given a dataset with only the email subjects for each of the people traveling.\n",
        "\n",
        "You learn that the text followed a pattern. Here is an example:\n",
        "\n",
        "Here you have your boarding pass **LA4214 AER-CDB 06NOV.**\n",
        "\n",
        "You need to extract the information about the flight:\n",
        "\n",
        "1.  The two letters indicate the airline (e.g LA),\n",
        "2.  The 4 numbers are the flight number (e.g. 4214).\n",
        "3.  The three letters correspond to the departure (e.g AER),\n",
        "4.  The destination (CDB),\n",
        "5.  The date (06NOV) of the flight.\n",
        "6.  All letters are always uppercase.\n",
        "\n",
        "The variable flight containing one email subject was loaded in your session. You can use print() to view it in the IPython Shell."
      ]
    },
    {
      "cell_type": "code",
      "metadata": {
        "id": "8AoY9R4jWRzy"
      },
      "source": [
        "flight = 'Subject: You are now ready to fly. Here you have your boarding pass IB3723 AMS-MAD 06OCT'\n"
      ],
      "execution_count": null,
      "outputs": []
    },
    {
      "cell_type": "code",
      "metadata": {
        "id": "ojeZh2u6WZbv"
      },
      "source": [
        "# Import re\n",
        "import re\n",
        "\n",
        "# Write regex to capture information of the flight\n",
        "regex = r\"([A-Z]{2})(\\d{4})\\s([A-Z]{3})-([A-Z]{3})\\s(\\d{2}[A-Z]{3})\"\n",
        "\n",
        "# Find all matches of the flight information\n",
        "flight_matches = re.findall(regex, flight)"
      ],
      "execution_count": null,
      "outputs": []
    },
    {
      "cell_type": "code",
      "metadata": {
        "colab": {
          "base_uri": "https://localhost:8080/"
        },
        "id": "WiuBOp8pXm-G",
        "outputId": "26c6ad67-58ef-4258-91f1-19598d356537"
      },
      "source": [
        "#Print the matches\n",
        "print(\"Airline: {} Flight number: {}\".format(flight_matches[0][0], flight_matches[0][1]))\n",
        "print(\"Departure: {} Destination: {}\".format(flight_matches[0][2], flight_matches[0][3]))\n",
        "print(\"Date: {}\".format(flight_matches[0][4]))"
      ],
      "execution_count": null,
      "outputs": [
        {
          "output_type": "stream",
          "text": [
            "Airline: IB Flight number: 3723\n",
            "Departure: AMS Destination: MAD\n",
            "Date: 06OCT\n"
          ],
          "name": "stdout"
        }
      ]
    },
    {
      "cell_type": "markdown",
      "metadata": {
        "id": "mSaWQkCNbdJB"
      },
      "source": [
        "## Love it!\n",
        "You are still working on the Twitter sentiment analysis project. First, you want to identify positive tweets about movies and concerts.\n",
        "\n",
        "You plan to find all the sentences that contain the words love, like, or enjoy and capture that word. You will limit the tweets by focusing on those that contain the words movie or concert by keeping the word in another group. You will also save the movie or concert name.\n",
        "\n",
        "For example, if you have the sentence: I love the movie Avengers. You match and capture love. You need to match and capture movie. Afterwards, you match and capture anything until the dot.\n",
        "\n",
        "The list sentiment_analysis containing the text of three tweets and the re module are loaded in your session. You can use print() to view the data in the IPython Shell."
      ]
    },
    {
      "cell_type": "code",
      "metadata": {
        "id": "pl_zu4fRbhc1"
      },
      "source": [
        "sentiment_analysis = ['I totally love the concert The Book of Souls World Tour. It kinda amazing!',\n",
        " 'I enjoy the movie Wreck-It Ralph. I watched with my boyfriend.',\n",
        " \"I still like the movie Wish Upon a Star. Too bad Disney doesn't show it anymore.\"]\n",
        " "
      ],
      "execution_count": null,
      "outputs": []
    },
    {
      "cell_type": "code",
      "metadata": {
        "colab": {
          "base_uri": "https://localhost:8080/"
        },
        "id": "L8gQPCu2bloY",
        "outputId": "48575fd0-490a-469c-e6ce-77e6cc1dff63"
      },
      "source": [
        "# Write a regex that matches sentences with the optional words\n",
        "regex_positive = r\"(love|like|enjoy).+?(movie|concert)\\s(.+?)\\.\"\n",
        "\n",
        "for tweet in sentiment_analysis:\n",
        "\t# Find all matches of regex in tweet\n",
        "    positive_matches = re.findall(regex_positive, tweet)\n",
        "    \n",
        "    # Complete format to print out the results\n",
        "    print(\"Positive comments found {}\".format(positive_matches))"
      ],
      "execution_count": null,
      "outputs": [
        {
          "output_type": "stream",
          "text": [
            "Positive comments found [('love', 'concert', 'The Book of Souls World Tour')]\n",
            "Positive comments found [('enjoy', 'movie', 'Wreck-It Ralph')]\n",
            "Positive comments found [('like', 'movie', 'Wish Upon a Star')]\n"
          ],
          "name": "stdout"
        }
      ]
    },
    {
      "cell_type": "markdown",
      "metadata": {
        "id": "lmPNUBfNd-9x"
      },
      "source": [
        "## Ugh! Not for me!\n",
        "After finding positive tweets, you want to do it for negative tweets. Your plan now is to find sentences that contain the words hate, dislike or disapprove. You will again save the movie or concert name. You will get the tweet containing the words movie or concert but this time, you don't plan to save the word.\n",
        "\n",
        "For example, if you have the sentence: I dislike the movie Avengers a lot.. You match and capture dislike. You will match but not capture the word movie. Afterwards, you match and capture anything until the dot.\n",
        "\n",
        "The list sentiment_analysis containing the text of three tweets as well as the re module are loaded in your session. You can use print() to view the data in the IPython Shell."
      ]
    },
    {
      "cell_type": "code",
      "metadata": {
        "id": "2Z3xovptd_3Q"
      },
      "source": [
        "sentiment_analysis = ['That was horrible! I really dislike the movie The cabin and the ant. So boring.',\n",
        " \"I disapprove the movie Honest with you. It's full of cliches.\",\n",
        " 'I dislike very much the concert After twelve Tour. The sound was horrible.']"
      ],
      "execution_count": null,
      "outputs": []
    },
    {
      "cell_type": "code",
      "metadata": {
        "colab": {
          "base_uri": "https://localhost:8080/"
        },
        "id": "NAflUSwCeU82",
        "outputId": "46f96441-ff2d-4754-c4eb-7bcae0d0c669"
      },
      "source": [
        "# Write a regex that matches sentences with the optional words\n",
        "regex_negative = r\"(hate|dislike|disapprove).+?(?:movie|concert)\\s(.+?)\\.\"\n",
        "\n",
        "for tweet in sentiment_analysis:\n",
        "\t# Find all matches of regex in tweet\n",
        "    negative_matches = re.findall(regex_negative, tweet)\n",
        "    \n",
        "    # Complete format to print out the results\n",
        "    print(\"Negative comments found {}\".format(negative_matches))"
      ],
      "execution_count": null,
      "outputs": [
        {
          "output_type": "stream",
          "text": [
            "Negative comments found [('dislike', 'The cabin and the ant')]\n",
            "Negative comments found [('disapprove', 'Honest with you')]\n",
            "Negative comments found [('dislike', 'After twelve Tour')]\n"
          ],
          "name": "stdout"
        }
      ]
    },
    {
      "cell_type": "markdown",
      "metadata": {
        "id": "2xYIwpz4hlCu"
      },
      "source": [
        "## Parsing PDF files\n",
        "You now need to work on another small project you have been delaying. Your company gave you some PDF files of signed contracts. The goal of the project is to create a database with the information you parse from them. Three of these columns should correspond to the day, month, and year when the contract was signed.\n",
        "The dates appear as Signed on 05/24/2016 (05 indicating the month, 24 the day). You decide to use capturing groups to extract this information. Also, you would like to retrieve that information so you can store it separately in different variables.\n",
        "\n",
        "You decide to do a proof of concept.\n",
        "\n",
        "The variable contract containing the text of one contract and the re module are already loaded in your session. You can use print() to view the data in the IPython Shell."
      ]
    },
    {
      "cell_type": "code",
      "metadata": {
        "id": "0ir8gyr0hm1G"
      },
      "source": [
        "contract = 'Provider will invoice Client for Services performed within 30 days of performance.  Client will pay Provider as set forth in each Statement of Work within 30 days of receipt and acceptance of such invoice. It is understood that payments to Provider for services rendered shall be made in full as agreed, without any deductions for taxes of any kind whatsoever, in conformity with Provider’s status as an independent contractor. Signed on 03/25/2001.'"
      ],
      "execution_count": null,
      "outputs": []
    },
    {
      "cell_type": "code",
      "metadata": {
        "colab": {
          "base_uri": "https://localhost:8080/"
        },
        "id": "kgRNUi0UhklB",
        "outputId": "f0b73ff2-9486-41b0-c9bf-7e494bfd62df"
      },
      "source": [
        "# Write regex and scan contract to capture the dates described\n",
        "regex_dates = r\"Signed\\son\\s(\\d{2})/(\\d{2})/(\\d{4})\"\n",
        "dates = re.search(regex_dates, contract)\n",
        "\n",
        "# Assign to each key the corresponding match\n",
        "signature = {\n",
        "\t\"day\": dates.group(2),\n",
        "\t\"month\": dates.group(1),\n",
        "\t\"year\": dates.group(3)\n",
        "}\n",
        "# Complete the format method to print-out\n",
        "print(\"Our first contract is dated back to {data[year]}. Particularly, the day {data[day]} of the month {data[month]}.\".format(data=signature))"
      ],
      "execution_count": null,
      "outputs": [
        {
          "output_type": "stream",
          "text": [
            "Our first contract is dated back to 2001. Particularly, the day 25 of the month 03.\n"
          ],
          "name": "stdout"
        }
      ]
    },
    {
      "cell_type": "markdown",
      "metadata": {
        "id": "zakwIP0uhuFQ"
      },
      "source": [
        "## Close the tag, please!\n",
        "In the meantime, you are working on one of your other projects. The company is going to develop a new product. It will help developers automatically check the code they are writing. You need to write a short script for checking that every HTML tag that is open has its proper closure.\n",
        "\n",
        "You have an example of a string containing HTML tags:\n",
        "\n",
        "\\<title>The Data Science Company \\</title>\n",
        "\n",
        "You learn that an opening HTML tag is always at the beginning of the string. It appears inside <>. A closing tag also appears inside <>, but it is preceded by /.\n",
        "\n",
        "You also remember that capturing groups can be referenced using numbers, e.g \\4.\n",
        "\n",
        "The list html_tags, containing three strings with HTML tags, and there module are loaded in your session. You can use print() to view the data in the IPython Shell."
      ]
    },
    {
      "cell_type": "code",
      "metadata": {
        "id": "RJl896IJhuu4"
      },
      "source": [
        "html_tags = ['<body>Welcome to our course! It would be an awesome experience</body>',\n",
        " '<article>To be a data scientist, you need to have knowledge in statistics and mathematics</article>',\n",
        " '<nav>About me Links Contact me!']"
      ],
      "execution_count": null,
      "outputs": []
    },
    {
      "cell_type": "code",
      "metadata": {
        "colab": {
          "base_uri": "https://localhost:8080/"
        },
        "id": "eSfgbReBiyrp",
        "outputId": "1e6c5961-76e2-4752-b929-c9ce3698b762"
      },
      "source": [
        "for string in html_tags:\n",
        "    # Complete the regex and find if it matches a closed HTML tags\n",
        "    match_tag =  re.match(r\"<(\\w+)>.*?</\\1>\", string)\n",
        " \n",
        "    if match_tag:\n",
        "        # If it matches print the first group capture\n",
        "        print(\"Your tag {} is closed\".format(match_tag.group(1))) \n",
        "    else:\n",
        "        # If it doesn't match capture only the tag \n",
        "        notmatch_tag = re.match(r\"<(\\w+)>\", string)\n",
        "        # Print the first group capture\n",
        "        print(\"Close your {} tag!\".format(notmatch_tag.group(1)))"
      ],
      "execution_count": null,
      "outputs": [
        {
          "output_type": "stream",
          "text": [
            "Your tag body is closed\n",
            "Your tag article is closed\n",
            "Close your nav tag!\n"
          ],
          "name": "stdout"
        }
      ]
    },
    {
      "cell_type": "markdown",
      "metadata": {
        "id": "k9Jifu9Nj6GQ"
      },
      "source": [
        "## Reeepeated characters\n",
        "Back to your sentiment analysis! Your next task is to replace elongated words that appear in the tweets. We define an elongated word as a word that contains a repeating character twice or more times. e.g. \"Awesoooome\".\n",
        "\n",
        "Replacing those words is very important since a classifier will treat them as a different term from the source words lowering their frequency.\n",
        "\n",
        "To find them, you will use capturing groups and reference them back using numbers. E.g \\4.\n",
        "\n",
        "If you want to find a match for Awesoooome. You first need to capture Awes. Then, match o and reference the same character back, and then, me.\n",
        "\n",
        "The list sentiment_analysis, containing the text of three tweets, and the re module are loaded in your session. You can use print() to view the data in the IPython Shell."
      ]
    },
    {
      "cell_type": "code",
      "metadata": {
        "id": "z1tXaFAkj7xD"
      },
      "source": [
        "sentiment_analysis = ['@marykatherine_q i know! I heard it this morning and wondered the same thing. Moscooooooow is so behind the times',\n",
        " 'Staying at a friends house...neighborrrrrrrs are so loud-having a party',\n",
        " 'Just woke up an already have read some e-mail']"
      ],
      "execution_count": null,
      "outputs": []
    },
    {
      "cell_type": "code",
      "metadata": {
        "colab": {
          "base_uri": "https://localhost:8080/"
        },
        "id": "3L_GWKs4j5rZ",
        "outputId": "d6cbb7b5-4471-4a99-9cab-a114e31b0f1b"
      },
      "source": [
        "# Complete the regex to match an elongated word\n",
        "regex_elongated = r\"\\w*(\\w)\\1\\w*\"\n",
        "\n",
        "for tweet in sentiment_analysis:\n",
        "\t# Find if there is a match in each tweet \n",
        "\tmatch_elongated = re.search(regex_elongated, tweet)\n",
        "    \n",
        "\tif match_elongated:\n",
        "\t\t# Assign the captured group zero \n",
        "\t\telongated_word = match_elongated.group(0)\n",
        "        \n",
        "\t\t# Complete the format method to print the word\n",
        "\t\tprint(\"Elongated word found: {word}\".format(word=elongated_word))\n",
        "\telse:\n",
        "\t\tprint(\"No elongated word found\") "
      ],
      "execution_count": null,
      "outputs": [
        {
          "output_type": "stream",
          "text": [
            "Elongated word found: Moscooooooow\n",
            "Elongated word found: neighborrrrrrrs\n",
            "No elongated word found\n"
          ],
          "name": "stdout"
        }
      ]
    },
    {
      "cell_type": "markdown",
      "metadata": {
        "id": "3yWJ4kJMlPiF"
      },
      "source": [
        "## Surrounding words\n",
        "Now, you want to perform some visualizations with your sentiment_analysis dataset. You are interested in the words surrounding python. You want to count how many times a specific words appears right before and after it.\n",
        "\n",
        "Positive lookahead (?=) makes sure that first part of the expression is followed by the lookahead expression. Positive lookbehind (?<=) returns all matches that are preceded by the specified pattern.\n",
        "\n",
        "The variable sentiment_analysis, containing the text of one tweet, and the re module are loaded in your session. You can use print() to view the data in the IPython Shell."
      ]
    },
    {
      "cell_type": "code",
      "metadata": {
        "id": "v_TRQDuBlQCV"
      },
      "source": [
        "sentiment_analysis = 'You need excellent python skills to be a data scientist. Must be! Excellent python'"
      ],
      "execution_count": null,
      "outputs": []
    },
    {
      "cell_type": "code",
      "metadata": {
        "colab": {
          "base_uri": "https://localhost:8080/"
        },
        "id": "BUqaMiX_llD0",
        "outputId": "dc40ed6b-cf46-4917-df2f-d4dcd49923f5"
      },
      "source": [
        "# Positive lookahead\n",
        "look_ahead = re.findall(r\"\\w+(?=\\spython)\", sentiment_analysis)\n",
        "\n",
        "# Print out\n",
        "print(look_ahead)"
      ],
      "execution_count": null,
      "outputs": [
        {
          "output_type": "stream",
          "text": [
            "['excellent', 'Excellent']\n"
          ],
          "name": "stdout"
        }
      ]
    },
    {
      "cell_type": "code",
      "metadata": {
        "colab": {
          "base_uri": "https://localhost:8080/"
        },
        "id": "LUE9Ne-El5v1",
        "outputId": "b2e91d30-35dc-474c-bd23-a58446074555"
      },
      "source": [
        "# Positive lookbehind\n",
        "look_behind = re.findall(r\"(?<=[Pp]ython\\s)\\w+\", sentiment_analysis)\n",
        "\n",
        "# Print out\n",
        "print(look_behind)"
      ],
      "execution_count": null,
      "outputs": [
        {
          "output_type": "stream",
          "text": [
            "['skills']\n"
          ],
          "name": "stdout"
        }
      ]
    },
    {
      "cell_type": "markdown",
      "metadata": {
        "id": "sK7RNtvml8Do"
      },
      "source": [
        "## Filtering phone numbers\n",
        "Now, you need to write a script for a cell-phone searcher. It should scan a list of phone numbers and return those that meet certain characteristics.\n",
        "\n",
        "The phone numbers in the list have the structure:\n",
        "\n",
        "Optional area code: 3 numbers\n",
        "Prefix: 4 numbers\n",
        "Line number: 6 numbers\n",
        "Optional extension: 2 numbers\n",
        "E.g. 654-8764-439434-01.\n",
        "\n",
        "You decide to use .findall() and the non-capturing group's negative lookahead (?!) and negative lookbehind (?<!).\n",
        "\n",
        "The list cellphones, containing three phone numbers, and the re module are loaded in your session. You can use print() to view the data in the IPython Shell."
      ]
    },
    {
      "cell_type": "code",
      "metadata": {
        "id": "sK1tk8dql8qp"
      },
      "source": [
        "cellphones = ['4564-646464-01', '345-5785-544245', '6476-579052-01']"
      ],
      "execution_count": null,
      "outputs": []
    },
    {
      "cell_type": "code",
      "metadata": {
        "colab": {
          "base_uri": "https://localhost:8080/"
        },
        "id": "KHWXZNNCmWkB",
        "outputId": "2adaadc2-cf67-47d5-a6a8-1c5feaa3cb51"
      },
      "source": [
        "for phone in cellphones:\n",
        "\t# Get all phone numbers not preceded by area code\n",
        "\tnumber = re.findall(r\"(?<!\\d{3}-)\\d{4}-\\d{6}-\\d{2}\", phone)\n",
        "\tprint(number)"
      ],
      "execution_count": null,
      "outputs": [
        {
          "output_type": "stream",
          "text": [
            "['4564-646464-01']\n",
            "[]\n",
            "['6476-579052-01']\n"
          ],
          "name": "stdout"
        }
      ]
    },
    {
      "cell_type": "code",
      "metadata": {
        "colab": {
          "base_uri": "https://localhost:8080/"
        },
        "id": "G-odg2KjmXr7",
        "outputId": "9f4f7ae5-d3e7-41ec-d0a3-5a2b8139b44f"
      },
      "source": [
        "for phone in cellphones:\n",
        "\t# Get all phone numbers not followed by optional extension\n",
        "\tnumber = re.findall(r\"\\d{3}-\\d{4}-\\d{6}(?!-\\d{2})\", phone)\n",
        "\tprint(number)"
      ],
      "execution_count": null,
      "outputs": [
        {
          "output_type": "stream",
          "text": [
            "[]\n",
            "['345-5785-544245']\n",
            "[]\n"
          ],
          "name": "stdout"
        }
      ]
    }
  ]
}